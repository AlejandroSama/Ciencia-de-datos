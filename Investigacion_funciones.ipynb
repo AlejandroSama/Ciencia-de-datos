{
 "cells": [
  {
   "cell_type": "markdown",
   "metadata": {},
   "source": [
    "## Universidad Galileo\n",
    "## Maestria en ciencia de datos\n",
    "## Introduccion a Python\n",
    "\n",
    "### Estudiante: Luis Alejandro Samayoa Alvarado\n",
    "### Carnet: 19002957"
   ]
  },
  {
   "cell_type": "markdown",
   "metadata": {},
   "source": [
    "\n",
    "# Funciones de Python\n",
    "\n",
    "Las funciones en Python tienen la misma representación que en matemática, reciben ciertos argumentos o valores, que luego de recibir una operación o algoritmo, devuelve un valor o expresión esperada. Su uso permite la reutilización o que funcionen para diferentes valores o contextos, lo que permite realizar tareas que se deben repetir con cierta frecuencia.\n"
   ]
  },
  {
   "cell_type": "code",
   "execution_count": 7,
   "metadata": {},
   "outputs": [
    {
     "name": "stdout",
     "output_type": "stream",
     "text": [
      "Hola Mundo\n"
     ]
    }
   ],
   "source": [
    "def funcion(): \n",
    "    return \"Hola Mundo\" \n",
    "\n",
    "frase = funcion() \n",
    "print(frase)"
   ]
  },
  {
   "cell_type": "markdown",
   "metadata": {},
   "source": [
    "## Parámetros posicionales\n",
    "\n",
    "Representan variables en las funciones, a las cuales no se les asigna necesariamente un valor. Toman un valor al momento de ejecutar la función.\n"
   ]
  },
  {
   "cell_type": "code",
   "execution_count": 6,
   "metadata": {},
   "outputs": [
    {
     "data": {
      "text/plain": [
       "17"
      ]
     },
     "execution_count": 6,
     "metadata": {},
     "output_type": "execute_result"
    }
   ],
   "source": [
    "def h(a,b,c):\n",
    "     return a + b*c\n",
    "h(2,3,5)"
   ]
  },
  {
   "cell_type": "markdown",
   "metadata": {},
   "source": [
    "## Parámetros nombrados\n",
    "\n",
    "Representa una constante en una función en Python. Adquiere un valor al momento de declarar la función utilizando el signo de igualdad.\n"
   ]
  },
  {
   "cell_type": "code",
   "execution_count": 5,
   "metadata": {},
   "outputs": [
    {
     "data": {
      "text/plain": [
       "10"
      ]
     },
     "execution_count": 5,
     "metadata": {},
     "output_type": "execute_result"
    }
   ],
   "source": [
    "def h(a, b=4, c=2):\n",
    "     return a + b*c\n",
    "h(2,)"
   ]
  },
  {
   "cell_type": "markdown",
   "metadata": {},
   "source": [
    "## Retorno de múltiples valores\n",
    "\n",
    "Las funciones pueden devolver varios valores o resultados en una misma operación.\n"
   ]
  },
  {
   "cell_type": "code",
   "execution_count": 7,
   "metadata": {},
   "outputs": [
    {
     "data": {
      "text/plain": [
       "(10, -6)"
      ]
     },
     "execution_count": 7,
     "metadata": {},
     "output_type": "execute_result"
    }
   ],
   "source": [
    "def h(a, b=4, c=2):\n",
    "     return a + b*c, a-b*c\n",
    "h(2,)"
   ]
  },
  {
   "cell_type": "markdown",
   "metadata": {},
   "source": [
    "## Funciones como objetos y como parámetros de otras funciones\n",
    "\n",
    "Las funciones funcionan como cualquier objeto en el entorno de Python, por lo cual es posible utilizarlas dentro de los parámetros de otra función.\n"
   ]
  },
  {
   "cell_type": "code",
   "execution_count": 14,
   "metadata": {},
   "outputs": [
    {
     "name": "stdout",
     "output_type": "stream",
     "text": [
      "4\n"
     ]
    }
   ],
   "source": [
    "def cuadrado(x):\n",
    "    return x ** 2\n",
    "\n",
    "def raiz_cuadrada(x):\n",
    "    return x ** 0.5\n",
    "\n",
    "def operar(func, *args):\n",
    "    for n in args:\n",
    "        print(func(n))\n",
    "\n",
    "operar(cuadrado,2)"
   ]
  },
  {
   "cell_type": "markdown",
   "metadata": {},
   "source": [
    "## Funciones anónimas o lambda\n",
    "\n",
    "Es una función escrita de manera reducida, funciona utilizando menos líneas de código por lo general y devuelve el mismo resultado que una función habitual."
   ]
  },
  {
   "cell_type": "code",
   "execution_count": 15,
   "metadata": {},
   "outputs": [
    {
     "data": {
      "text/plain": [
       "11"
      ]
     },
     "execution_count": 15,
     "metadata": {},
     "output_type": "execute_result"
    }
   ],
   "source": [
    "f = lambda x, y, z=1: (x+y) * z\n",
    "f(5, 6)"
   ]
  }
 ],
 "metadata": {
  "kernelspec": {
   "display_name": "Python 3",
   "language": "python",
   "name": "python3"
  },
  "language_info": {
   "codemirror_mode": {
    "name": "ipython",
    "version": 3
   },
   "file_extension": ".py",
   "mimetype": "text/x-python",
   "name": "python",
   "nbconvert_exporter": "python",
   "pygments_lexer": "ipython3",
   "version": "3.6.5"
  }
 },
 "nbformat": 4,
 "nbformat_minor": 2
}
