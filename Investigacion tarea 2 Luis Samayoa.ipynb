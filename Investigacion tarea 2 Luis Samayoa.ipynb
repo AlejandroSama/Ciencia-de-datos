{
 "cells": [
  {
   "cell_type": "markdown",
   "metadata": {},
   "source": [
    "# Investigacion Tarea 2\n",
    "### Luis Alejandro Samayoa\n",
    "### 19002957"
   ]
  },
  {
   "cell_type": "markdown",
   "metadata": {},
   "source": [
    "### Proyeccion vectorial\n",
    "En la proyección escalar se obtiene un escalar mientras en la proyección vectorial la operación arroja un vector. La magnitud del vector resultante de la proyección vectorial es igual al valor de la proyección escalar. En ambas proyecciones se utiliza la operación producto escalar.\n",
    "\n",
    "<img src=\"https://slideplayer.es/slide/1736524/7/images/9/Aplicaciones+del+producto+escalar.jpg\">\n",
    "\n",
    "El siguiente video puede ayudar la comprension del producto punto.\n",
    "\n",
    "https://www.youtube.com/watch?v=ekMpAiA0gGk"
   ]
  },
  {
   "cell_type": "markdown",
   "metadata": {},
   "source": [
    "### Proyeccion vectorial en Numpy\n",
    "Entre las funciones universales de numpy se puede utilizar np.sum(x*y) para determinar el producto punto entre dos vectores. (Creo?)"
   ]
  },
  {
   "cell_type": "code",
   "execution_count": 3,
   "metadata": {},
   "outputs": [
    {
     "data": {
      "text/plain": [
       "31"
      ]
     },
     "execution_count": 3,
     "metadata": {},
     "output_type": "execute_result"
    }
   ],
   "source": [
    "import numpy as np\n",
    "x=np.array([2,3,4,5])\n",
    "y=np.array([3,4,2,1])\n",
    "\n",
    "#Producto punto\n",
    "np.sum(x*y)"
   ]
  },
  {
   "cell_type": "markdown",
   "metadata": {},
   "source": [
    "### Posible interpretacion de la proyeccion vectorial\n",
    "Entre las posibles interpretaciones que se le puede dar a la proyeccion vectorial esta la regresion lineal, pues considera vectores de diferentes valores y genera parametros para los coeficientes de la linea recta que mejor aproxima a los datos.\n",
    "<img src=\"https://upload.wikimedia.org/wikipedia/commons/thumb/3/3a/Linear_regression.svg/350px-Linear_regression.svg.png\">"
   ]
  },
  {
   "cell_type": "markdown",
   "metadata": {},
   "source": [
    "### Usos de la proyeccion vectorial en Data Science\n",
    "Segun lo visto en clase, el producto punto entre vectores es utilizado en machine learning, en el proceso de entrenamiento de una red neuronal.\n",
    "\n",
    "<img src=\"https://upload.wikimedia.org/wikipedia/commons/thumb/6/64/RedNeuronalArtificial.png/400px-RedNeuronalArtificial.png\">"
   ]
  }
 ],
 "metadata": {
  "kernelspec": {
   "display_name": "Python 3",
   "language": "python",
   "name": "python3"
  },
  "language_info": {
   "codemirror_mode": {
    "name": "ipython",
    "version": 3
   },
   "file_extension": ".py",
   "mimetype": "text/x-python",
   "name": "python",
   "nbconvert_exporter": "python",
   "pygments_lexer": "ipython3",
   "version": "3.6.5"
  }
 },
 "nbformat": 4,
 "nbformat_minor": 2
}
