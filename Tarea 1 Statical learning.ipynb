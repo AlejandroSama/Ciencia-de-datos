{
 "cells": [
  {
   "cell_type": "markdown",
   "metadata": {},
   "source": [
    "## Universidad Galileo\n",
    "## Statical Learning\n",
    "## Tarea 1\n",
    "\n",
    "### Luis Alejandro Samayoa Alvarado\n",
    "### 19002957"
   ]
  },
  {
   "cell_type": "code",
   "execution_count": 2,
   "metadata": {},
   "outputs": [],
   "source": [
    "import numpy as np \n",
    "import tensorflow as tf \n",
    "import matplotlib.pyplot as plt"
   ]
  },
  {
   "cell_type": "code",
   "execution_count": 3,
   "metadata": {},
   "outputs": [
    {
     "name": "stdout",
     "output_type": "stream",
     "text": [
      "El valor a usar en matriz entrenamiento es:\n",
      "1168.0\n",
      "La base de datos es:\n",
      "[[2.08500e+05 7.00000e+00 8.56000e+02 8.00000e+00 2.00300e+03 6.50000e+01]\n",
      " [1.81500e+05 6.00000e+00 1.26200e+03 6.00000e+00 1.97600e+03 8.00000e+01]\n",
      " [2.23500e+05 7.00000e+00 9.20000e+02 6.00000e+00 2.00100e+03 6.80000e+01]\n",
      " ...\n",
      " [2.66500e+05 7.00000e+00 1.18800e+03 9.00000e+00 1.94100e+03 6.60000e+01]\n",
      " [1.42125e+05 5.00000e+00 1.07800e+03 5.00000e+00 1.95000e+03 6.80000e+01]\n",
      " [1.47500e+05 5.00000e+00 1.25600e+03 6.00000e+00 1.96500e+03 7.50000e+01]]\n"
     ]
    }
   ],
   "source": [
    "data=np.load('/home/alejo/Documentos/proyecto_training_data.npy')\n",
    "tipo_data=data.shape\n",
    "ext_entreno=0.8*tipo_data[0]\n",
    "print('El valor a usar en matriz entrenamiento es:')\n",
    "print(ext_entreno)\n",
    "print('La base de datos es:')\n",
    "print(data)"
   ]
  },
  {
   "cell_type": "code",
   "execution_count": 4,
   "metadata": {},
   "outputs": [
    {
     "name": "stdout",
     "output_type": "stream",
     "text": [
      "[208500. 181500. 223500. ... 233170. 245350. 173000.]\n",
      "1168\n",
      "180590.27739726027\n",
      "(1168, 6)\n",
      "(291, 6)\n"
     ]
    }
   ],
   "source": [
    "entreno=data[:1168,]\n",
    "prediccion=data[1169:,]\n",
    "print(entreno[:,0])\n",
    "y=entreno[:,0]\n",
    "print(len(y))\n",
    "print(np.mean(y))\n",
    "print(entreno.shape)\n",
    "print(prediccion.shape)"
   ]
  },
  {
   "cell_type": "code",
   "execution_count": 5,
   "metadata": {},
   "outputs": [],
   "source": [
    "y=entreno[:,0]\n",
    "x1=entreno[:,1]\n",
    "x2=entreno[:,2]\n",
    "x3=entreno[:,3]\n",
    "x4=entreno[:,4]\n",
    "x5=entreno[:,5]"
   ]
  },
  {
   "cell_type": "code",
   "execution_count": 13,
   "metadata": {},
   "outputs": [
    {
     "data": {
      "image/png": "[encoded data removed]",
      "text/plain": [
       "<Figure size 432x288 with 1 Axes>"
      ]
     },
     "metadata": {},
     "output_type": "display_data"
    }
   ],
   "source": [
    "fig = plt.figure()\n",
    "plt.scatter(x1, y)\n",
    "plt.ylabel(\"Precio de las viviendas\");"
   ]
  },
  {
   "cell_type": "code",
   "execution_count": 10,
   "metadata": {},
   "outputs": [],
   "source": [
    "X = tf.placeholder(tf.float32)\n",
    "Y = tf.placeholder(tf.float32)\n",
    "\n",
    "# Declaramos las variables entrenables de TensorFlow\n",
    "b1 = tf.Variable(tf.constant(1.), name = \"W\") \n",
    "b0 = tf.Variable(tf.constant(0.), name = \"b\") \n",
    "\n",
    "# Hiperparámetro\n",
    "lr = tf.placeholder(tf.float32)"
   ]
  },
  {
   "cell_type": "code",
   "execution_count": 11,
   "metadata": {},
   "outputs": [],
   "source": [
    "Yhat = tf.add(tf.multiply(X, b1),b0) \n",
    "cost = tf.reduce_sum(tf.pow(Yhat-Y, 2)) / (2 * ext_entreno) \n",
    "optimizer = tf.train.GradientDescentOptimizer(lr).minimize(cost) \n",
    "init = tf.global_variables_initializer() \n",
    "testSummary = tf.summary.scalar(name='Funcion_de_costo', tensor = cost)\n",
    "\n",
    "## Funcion de entreno\n",
    "def entrenarModeloLineal(x, y, training_epochs, learning_rate, imprimirCada):\n",
    "    with tf.Session() as sess: \n",
    "        writer = tf.summary.FileWriter('./graficas', sess.graph)\n",
    "        # Initializing the Variables \n",
    "        sess.run(init) \n",
    "        for epoch in range(training_epochs): \n",
    "\n",
    "            for (_x, _y) in zip(x, y): \n",
    "                sess.run(optimizer, feed_dict = {X : _x, Y : _y, lr : learning_rate}) \n",
    "\n",
    "            if (epoch + 1) % imprimirCada == 0: \n",
    "                # Calculating the cost a every epoch \n",
    "                c = sess.run(cost, feed_dict = {X : Xtrain, Y : Ytrain}) \n",
    "                print(\"Epoch\", (epoch + 1), \": cost =\", c, \"W =\", sess.run(W), \"b =\", sess.run(b)) \n",
    "         \n",
    "            summary = sess.run(testSummary, feed_dict = {X : x, Y : y})\n",
    "            \n",
    "            writer.add_summary(summary, epoch)\n",
    "        # Storing necessary values to be used outside the Session \n",
    "        training_cost = sess.run(cost, feed_dict ={X: x, Y: y}) \n",
    "        weight = sess.run(W) \n",
    "        bias = sess.run(b) \n",
    "        \n",
    "        return (weight, bias, training_cost)"
   ]
  }
 ],
 "metadata": {
  "kernelspec": {
   "display_name": "Python 3",
   "language": "python",
   "name": "python3"
  },
  "language_info": {
   "codemirror_mode": {
    "name": "ipython",
    "version": 3
   },
   "file_extension": ".py",
   "mimetype": "text/x-python",
   "name": "python",
   "nbconvert_exporter": "python",
   "pygments_lexer": "ipython3",
   "version": "3.6.5"
  }
 },
 "nbformat": 4,
 "nbformat_minor": 2
}
